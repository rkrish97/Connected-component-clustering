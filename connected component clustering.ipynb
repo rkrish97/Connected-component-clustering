{
  "nbformat": 4,
  "nbformat_minor": 0,
  "metadata": {
    "colab": {
      "name": "DIP Lab1 Final.ipynb",
      "provenance": [],
      "collapsed_sections": []
    },
    "kernelspec": {
      "name": "python3",
      "display_name": "Python 3"
    },
    "accelerator": "GPU"
  },
  "cells": [
    {
      "cell_type": "markdown",
      "metadata": {
        "id": "OklpBil0k9XV"
      },
      "source": [
        "## EEC 206 Lab 1\n",
        "\n",
        "Rahul Krishnamoorthy, Spencer Bagga"
      ]
    },
    {
      "cell_type": "markdown",
      "metadata": {
        "id": "1RwPYj-JkbY1"
      },
      "source": [
        "#Mount the Google Drive"
      ]
    },
    {
      "cell_type": "code",
      "metadata": {
        "id": "ltlYEKq_hqyH",
        "cellView": "both",
        "colab": {
          "base_uri": "https://localhost:8080/",
          "height": 121
        },
        "outputId": "0cfde1d6-ce71-431a-b17e-e860f0f75b3e"
      },
      "source": [
        "from google.colab import drive #module required to mount the google drive\n",
        "drive.mount('/content/gdrive') #mounting the google drive to access the images"
      ],
      "execution_count": null,
      "outputs": [
        {
          "output_type": "stream",
          "text": [
            "Go to this URL in a browser: https://accounts.google.com/o/oauth2/auth?client_id=947318989803-6bn6qk8qdgf4n4g3pfee6491hc0brc4i.apps.googleusercontent.com&redirect_uri=urn%3aietf%3awg%3aoauth%3a2.0%3aoob&response_type=code&scope=email%20https%3a%2f%2fwww.googleapis.com%2fauth%2fdocs.test%20https%3a%2f%2fwww.googleapis.com%2fauth%2fdrive%20https%3a%2f%2fwww.googleapis.com%2fauth%2fdrive.photos.readonly%20https%3a%2f%2fwww.googleapis.com%2fauth%2fpeopleapi.readonly\n",
            "\n",
            "Enter your authorization code:\n",
            "··········\n",
            "Mounted at /content/gdrive\n"
          ],
          "name": "stdout"
        }
      ]
    },
    {
      "cell_type": "markdown",
      "metadata": {
        "id": "5H81xr3Mj7ax"
      },
      "source": [
        "#Importing Libraries and Input Image"
      ]
    },
    {
      "cell_type": "code",
      "metadata": {
        "id": "MVpqIdPVDPsq",
        "cellView": "both",
        "colab": {
          "base_uri": "https://localhost:8080/",
          "height": 290
        },
        "outputId": "15568ba4-7acc-4fda-9208-a49f11a5ea4c"
      },
      "source": [
        "import cv2 #module to import the images\n",
        "import numpy as np #module for matrix operations\n",
        "from google.colab.patches import cv2_imshow #google colab's patch for dispplaying images\n",
        "import time #module to display the time taken to run program\n",
        "path = '/content/gdrive/My Drive/wifi.png' #Enter the path to the image here\n",
        "in_image = cv2.imread(path, 0) #Read the image in grayscale\n",
        "print(\"Input image:\")\n",
        "cv2_imshow(in_image) #Displays image"
      ],
      "execution_count": null,
      "outputs": [
        {
          "output_type": "stream",
          "text": [
            "Input image:\n"
          ],
          "name": "stdout"
        },
        {
          "output_type": "display_data",
          "data": {
            "image/png": "[encoded data removed]",
            "text/plain": [
              "<PIL.Image.Image image mode=L size=256x256 at 0x7EFF625772B0>"
            ]
          },
          "metadata": {
            "tags": []
          }
        }
      ]
    },
    {
      "cell_type": "markdown",
      "metadata": {
        "id": "QDp3H2gmjuuD"
      },
      "source": [
        "#Component Clustering Function"
      ]
    },
    {
      "cell_type": "code",
      "metadata": {
        "id": "cxnS4mgUwjR-",
        "cellView": "both"
      },
      "source": [
        "def ccGroup(in_image):\n",
        "  prev_cluster = 0 #records the number of clusters during the first pass\n",
        "  equal_max = np.array([]) #numpy array to store the max value during conflict\n",
        "  equal_min = np.array([]) #numpy array to store the min value during conflict\n",
        "  in_image[in_image<255] = 0 #thresholding the image to make it binary\n",
        "  padded = np.pad(in_image,[(1,1),(1,1)],mode='constant') #pad the image on all four sides\n",
        "  mat = np.zeros((padded.shape)) #creating the matrix to store the clusters of each object in the image having the same shape as the image\n",
        "  for i in range(1,padded.shape[0]):\n",
        "    for j in range(1,padded.shape[1]): #looping through each row and column\n",
        "      if padded[i][j] == 255: #only when the image pixels are white\n",
        "        if mat[i][j-1] == 0 and mat[i-1][j]==0 and mat[i-1][j-1]==0 and mat[i-1][j+1]==0: #looking whether there are any existing clusters in the top left, top, top right and to the left of the current pixel.\n",
        "          prev_cluster = prev_cluster + 1 #in that case, increment the cluster number by one.\n",
        "          mat[i][j] = prev_cluster #plug in the new cluster number for the current pixel\n",
        "        elif mat[i][j-1]!=0: #if there is an existing cluster to the left of current pixel\n",
        "          if mat[i-1][j]!=0 and mat[i][j-1]!=mat[i-1][j]: #Also check if there are non zero elements to the top of the current pixel and check if they both are not equal\n",
        "            index = np.array(np.where(equal_max==min(mat[i][j-1],mat[i-1][j]))) #getting the index of the minimum of the two values in the max array.\n",
        "            if index.size!=0: #if it is not empty\n",
        "              mat[i][j] = min(mat[i][j-1],mat[i-1][j]) #append the minimum of the two for the current pixel\n",
        "              equal_max = np.append(equal_max,max(mat[i][j-1],mat[i-1][j])) #append the max element in the max_array\n",
        "              index = np.where(equal_max==min(mat[i][j-1],mat[i-1][j]))[0][0] #finding the first occurance of the minimum of two in the max_array\n",
        "              equal_min = np.append(equal_min,equal_min[index]) #Appending the corresponding min element to the max element found previously\n",
        "            else: #if there are no such indices in the max_array.\n",
        "              mat[i][j] = min(mat[i][j-1],mat[i-1][j]) #append the minimum of the two as the current pixel's cluster\n",
        "              equal_max = np.append(equal_max,max(mat[i][j-1],mat[i-1][j])) #append the maximum of the two in the max array\n",
        "              equal_min = np.append(equal_min,min(mat[i][j-1],mat[i-1][j])) #append the minimum of the two in the min array\n",
        "          elif mat[i-1][j+1]!=0 and mat[i][j-1]!=mat[i-1][j+1]: #Performin the same steps for the left and top right pixels\n",
        "            index = np.array(np.where(equal_max==min(mat[i][j-1],mat[i-1][j+1])))\n",
        "            if index.size!=0:\n",
        "              mat[i][j] = min(mat[i][j-1],mat[i-1][j+1])\n",
        "              equal_max = np.append(equal_max,max(mat[i][j-1],mat[i-1][j+1]))\n",
        "              index = np.where(equal_max==min(mat[i][j-1],mat[i-1][j+1]))[0][0]\n",
        "              equal_min = np.append(equal_min,equal_min[index])\n",
        "            else:\n",
        "              mat[i][j] = min(mat[i][j-1],mat[i-1][j+1])\n",
        "              equal_max = np.append(equal_max,max(mat[i][j-1],mat[i-1][j+1]))\n",
        "              equal_min = np.append(equal_min,min(mat[i][j-1],mat[i-1][j+1]))\n",
        "          else: #if the left pixel is the ony non zero element\n",
        "            mat[i][j] = mat[i][j-1]\n",
        "        elif mat[i-1][j]!=0: #if the top pixel is non zero\n",
        "          if mat[i-1][j+1]!=0 and mat[i-1][j]!=mat[i-1][j+1]: #same procedure as above for top and top right pixels\n",
        "            index = np.array(np.where(equal_max==min(mat[i-1][j],mat[i-1][j+1])))\n",
        "            if index.size!=0:\n",
        "              mat[i][j] = min(mat[i-1][j],mat[i-1][j+1])\n",
        "              equal_max = np.append(equal_max,max(mat[i-1][j],mat[i-1][j+1]))\n",
        "              index = np.where(equal_max==min(mat[i-1][j],mat[i-1][j+1]))[0][0]\n",
        "              equal_min = np.append(equal_min,equal_min[index])\n",
        "            else:\n",
        "              mat[i][j] = min(mat[i-1][j],mat[i-1][j+1])\n",
        "              equal_max = np.append(equal_max,max(mat[i-1][j],mat[i-1][j+1]))\n",
        "              equal_min = np.append(equal_min,min(mat[i-1][j],mat[i-1][j+1]))\n",
        "          else:\n",
        "            mat[i][j] = mat[i-1][j]\n",
        "        elif mat[i-1][j-1]!=0: #if the top left pixel is non zero\n",
        "          mat[i][j] = mat[ji-1][j-1]\n",
        "        elif mat[i-1][j+1]!=0: #if the top right pixel is non zero\n",
        "          mat[i][j] = mat[i-1][j+1]\n",
        "  equal_max = np.flip(equal_max) #flip the array to get the  last element first\n",
        "  equal_min = np.flip(equal_min) #flip the array to get the last element first\n",
        "  vals = np.unique(mat) #finds the number of unique elements in the list\n",
        "  for _ in range(len(vals)-1): #do the same process as the number of unique elements\n",
        "    for i in range(len(equal_max)): #for all the elements in the equal_max\n",
        "      mat[mat==equal_max[i]] = equal_min[i] #replaceing the elements in the max array with the corrsponding elements in the min array\n",
        "  i=1\n",
        "  vals = np.unique(mat) #find the number of unique elements\n",
        "  n = len(vals)-1 #n gives the number of clusters. 1 is subtracted to exclude the value 0\n",
        "  x = int(255/n)\n",
        "  while i<len(vals): #for all the clusters\n",
        "    mat[mat==vals[i]] = x*i #provide different shades of gray\n",
        "    i=i+1\n",
        "  out_img = mat\n",
        "  return n, out_img #return the number of clusters and the output image"
      ],
      "execution_count": null,
      "outputs": []
    },
    {
      "cell_type": "markdown",
      "metadata": {
        "id": "KUdx3FbLltt2"
      },
      "source": [
        "#Display Results"
      ]
    },
    {
      "cell_type": "code",
      "metadata": {
        "id": "YArVEDZ1DVPp",
        "cellView": "both",
        "colab": {
          "base_uri": "https://localhost:8080/",
          "height": 326
        },
        "outputId": "99149d27-cb1c-4878-b9db-b1631b02f62c"
      },
      "source": [
        "start_time = time.time() #start the timer\n",
        "n, out_img = ccGroup(in_image) #run the ccGroup function to get the number of clusters and the output image\n",
        "print(\"Number of clusters: \",n)\n",
        "print(\"Output Image:\")\n",
        "cv2_imshow(out_img) #diplaay the image\n",
        "print(\"Time taken to run: \",time.time()-start_time, \" seconds\") #record the time taken to run the program"
      ],
      "execution_count": null,
      "outputs": [
        {
          "output_type": "stream",
          "text": [
            "Number of clusters:  4\n",
            "Output Image:\n"
          ],
          "name": "stdout"
        },
        {
          "output_type": "display_data",
          "data": {
            "image/png": "[encoded data removed]",
            "text/plain": [
              "<PIL.Image.Image image mode=L size=258x258 at 0x7EFF62577048>"
            ]
          },
          "metadata": {
            "tags": []
          }
        },
        {
          "output_type": "stream",
          "text": [
            "Time taken to run:  5.404040336608887  seconds\n"
          ],
          "name": "stdout"
        }
      ]
    },
    {
      "cell_type": "markdown",
      "metadata": {
        "id": "Omi-5Pbf_4sB"
      },
      "source": [
        
      ]
    }
  ]
}
